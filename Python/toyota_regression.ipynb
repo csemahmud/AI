{
 "cells": [
  {
   "cell_type": "markdown",
   "id": "2ca1a97f-0035-4e0b-80a8-7fa249cb3dec",
   "metadata": {},
   "source": [
    "# Toyota Regression"
   ]
  },
  {
   "cell_type": "markdown",
   "id": "2e09cc73-6f49-4554-82ff-ffb50690a7ef",
   "metadata": {},
   "source": [
    "## @author: KHAN MAHMUDUL HASAN"
   ]
  },
  {
   "cell_type": "markdown",
   "id": "8e44c618-0182-4047-ae77-e32c981d4dcc",
   "metadata": {},
   "source": [
    "## Library Set Up"
   ]
  },
  {
   "cell_type": "code",
   "execution_count": 1,
   "id": "e815c591-9124-428f-bbb8-d95b98cca5a0",
   "metadata": {},
   "outputs": [],
   "source": [
    "from sklearn.linear_model import LinearRegression\n",
    "import pandas as pd\n",
    "import matplotlib.pyplot as plt\n",
    "from sklearn import linear_model\n",
    "from sklearn.metrics import r2_score\n",
    "from sklearn.svm import SVR\n",
    "from sklearn.model_selection import train_test_split # split data into train and test data\n",
    "import numpy as np"
   ]
  },
  {
   "cell_type": "markdown",
   "id": "a2b5283f-d9ab-4934-b6f7-1b53febf6c9e",
   "metadata": {},
   "source": [
    "## Read Data"
   ]
  },
  {
   "cell_type": "code",
   "execution_count": 2,
   "id": "19b3c344-4cba-48de-ac3a-fc2de7326cac",
   "metadata": {},
   "outputs": [],
   "source": [
    "toyota_stock_data = pd.read_csv('toyota_stock.csv', encoding=\"utf-8\")"
   ]
  },
  {
   "cell_type": "markdown",
   "id": "d7185fac-bb26-46a2-902d-9eae3bf1df67",
   "metadata": {},
   "source": [
    "## Reorder data from old to new date"
   ]
  },
  {
   "cell_type": "code",
   "execution_count": 3,
   "id": "15a5d485-af4c-4438-a76d-3af679815972",
   "metadata": {},
   "outputs": [
    {
     "name": "stdout",
     "output_type": "stream",
     "text": [
      "     Year  Month  Day  Begin  High   Low   End   Result  Adj_end\n",
      "241  2020      4   20   6665  6725  6635  6635  4464000     6635\n",
      "240  2020      4   21   6619  6654  6556  6560  4505600     6560\n",
      "239  2020      4   22   6505  6529  6451  6500  4713600     6500\n",
      "238  2020      4   23   6553  6573  6513  6570  3436200     6570\n",
      "237  2020      4   24   6450  6570  6447  6543  4807000     6543\n",
      "..    ...    ...  ...    ...   ...   ...   ...      ...      ...\n",
      "4    2021      4   12   8448  8514  8435  8435  3945600     8435\n",
      "3    2021      4   13   8452  8561  8448  8507  4691600     8507\n",
      "2    2021      4   14   8467  8514  8416  8485  4412700     8485\n",
      "1    2021      4   15   8550  8596  8521  8564  4361100     8564\n",
      "0    2021      4   16   8575  8578  8490  8530  3332000     8530\n",
      "\n",
      "[242 rows x 9 columns]\n",
      "<class 'pandas.core.frame.DataFrame'>\n",
      "Int64Index: 242 entries, 241 to 0\n",
      "Data columns (total 9 columns):\n",
      " #   Column   Non-Null Count  Dtype\n",
      "---  ------   --------------  -----\n",
      " 0   Year     242 non-null    int64\n",
      " 1   Month    242 non-null    int64\n",
      " 2   Day      242 non-null    int64\n",
      " 3   Begin    242 non-null    int64\n",
      " 4   High     242 non-null    int64\n",
      " 5   Low      242 non-null    int64\n",
      " 6   End      242 non-null    int64\n",
      " 7   Result   242 non-null    int64\n",
      " 8   Adj_end  242 non-null    int64\n",
      "dtypes: int64(9)\n",
      "memory usage: 18.9 KB\n",
      "None\n"
     ]
    }
   ],
   "source": [
    "toyota_stock_data = toyota_stock_data.sort_index(axis=0, ascending=False)\n",
    "#\n",
    "print(toyota_stock_data)\n",
    "print(toyota_stock_data.info())"
   ]
  },
  {
   "cell_type": "markdown",
   "id": "e02856a6-27ba-4231-bd9b-4dc3c0f58d34",
   "metadata": {},
   "source": [
    "## Define training and and test data"
   ]
  },
  {
   "cell_type": "code",
   "execution_count": 4,
   "id": "583519d9-6487-42a2-a54a-84394f713d9d",
   "metadata": {},
   "outputs": [],
   "source": [
    "train = (toyota_stock_data[\"Year\"] <= 2020)\n",
    "test = (toyota_stock_data[\"Year\"] >= 2021)\n",
    "interval = 6"
   ]
  },
  {
   "cell_type": "markdown",
   "id": "ebe828c2-6677-46ee-9001-f114a23080fe",
   "metadata": {},
   "source": [
    "## define sliding window (past 6 days) function"
   ]
  },
  {
   "cell_type": "code",
   "execution_count": 5,
   "id": "f414cc86-29b6-4c97-a7af-21ae33558981",
   "metadata": {},
   "outputs": [],
   "source": [
    "def make_data(data):\n",
    "    x = [] # train data\n",
    "    y = [] # train target data\n",
    "    ends = list(data[\"End\"])  # get Temperature data\n",
    "    for i in range(len(ends)):  \n",
    "        if i < interval: continue\n",
    "        y.append(ends[i])\n",
    "        xa = []\n",
    "        for p in range(interval):\n",
    "            d = i + p - interval\n",
    "            xa.append(ends[d])\n",
    "        x.append(xa)\n",
    "    return (x, y)"
   ]
  },
  {
   "cell_type": "markdown",
   "id": "b08f263d-8bc1-4a05-b06a-25293175b94d",
   "metadata": {},
   "source": [
    "## define training y and x variables"
   ]
  },
  {
   "cell_type": "code",
   "execution_count": 6,
   "id": "dd1c0926-5642-4b74-8511-1e2497fa796b",
   "metadata": {},
   "outputs": [],
   "source": [
    "train_x, train_y = make_data(toyota_stock_data[train])  # define train data\n",
    "test_x, test_y = make_data(toyota_stock_data[test])  # define test data"
   ]
  },
  {
   "cell_type": "markdown",
   "id": "ac4c962a-8a8a-4a1a-90f5-e360c64fef80",
   "metadata": {},
   "source": [
    "## perform linear regression "
   ]
  },
  {
   "cell_type": "code",
   "execution_count": 7,
   "id": "3498e9fd-f900-421b-90ad-3c1df4cf4223",
   "metadata": {},
   "outputs": [
    {
     "name": "stderr",
     "output_type": "stream",
     "text": [
      "/root/anaconda3/lib/python3.9/site-packages/sklearn/linear_model/_base.py:141: FutureWarning: 'normalize' was deprecated in version 1.0 and will be removed in 1.2.\n",
      "If you wish to scale the data, use Pipeline with a StandardScaler in a preprocessing stage. To reproduce the previous behavior:\n",
      "\n",
      "from sklearn.pipeline import make_pipeline\n",
      "\n",
      "model = make_pipeline(StandardScaler(with_mean=False), LinearRegression())\n",
      "\n",
      "If you wish to pass a sample_weight parameter, you need to pass it as a fit parameter to each step of the pipeline as follows:\n",
      "\n",
      "kwargs = {s[0] + '__sample_weight': sample_weight for s in model.steps}\n",
      "model.fit(X, y, **kwargs)\n",
      "\n",
      "\n",
      "  warnings.warn(\n"
     ]
    }
   ],
   "source": [
    "lr = LinearRegression(normalize=True)\n",
    "lr.fit(train_x, train_y) # fit learning\n",
    "pre_y = lr.predict(test_x) # prediction for test data"
   ]
  },
  {
   "cell_type": "markdown",
   "id": "e2d5a476-bd59-4664-81c6-6b2ee9187965",
   "metadata": {},
   "source": [
    "## The coefficients"
   ]
  },
  {
   "cell_type": "code",
   "execution_count": 8,
   "id": "3a1f5ef7-0250-49c8-8dff-67d7d0d2b7c9",
   "metadata": {},
   "outputs": [
    {
     "name": "stdout",
     "output_type": "stream",
     "text": [
      "Coefficients: \n",
      " [-0.03138655  0.00835596  0.19606607 -0.27779207 -0.01540245  1.09212934]\n"
     ]
    }
   ],
   "source": [
    "print('Coefficients: \\n', lr.coef_)"
   ]
  },
  {
   "cell_type": "markdown",
   "id": "6e075ea1-421b-406a-9657-a1cf838f5bf6",
   "metadata": {},
   "source": [
    "## Eaxplined variance score: 1 is perfect prediction"
   ]
  },
  {
   "cell_type": "code",
   "execution_count": 9,
   "id": "f299834f-2d13-45ea-8fc9-7bd4b0811c69",
   "metadata": {},
   "outputs": [
    {
     "name": "stdout",
     "output_type": "stream",
     "text": [
      "Variance score: \n",
      " 0.8507037166265974\n"
     ]
    }
   ],
   "source": [
    "print('Variance score: \\n', r2_score(test_y, pre_y))"
   ]
  },
  {
   "cell_type": "markdown",
   "id": "a968c98a-57a1-4750-bb2d-5f449abf0204",
   "metadata": {},
   "source": [
    "## plot test data Y and projected Y"
   ]
  },
  {
   "cell_type": "code",
   "execution_count": 10,
   "id": "822efe69-f48b-4a02-9af1-47e22ea06973",
   "metadata": {},
   "outputs": [
    {
     "data": {
      "image/png": "[encoded data removed]",
      "text/plain": [
       "<Figure size 720x432 with 1 Axes>"
      ]
     },
     "metadata": {
      "needs_background": "light"
     },
     "output_type": "display_data"
    }
   ],
   "source": [
    "plt.figure(figsize=(10,6))  # set figure size 6 x 10\n",
    "plt.plot(test_y, color = 'black', linestyle = 'solid')\n",
    "plt.plot(pre_y, color = 'red', linestyle = 'dotted')\n",
    "plt.title('Test Y and Projected Y difference')\n",
    "plt.xlabel(\"Observation\")\n",
    "plt.ylabel(\"day7 ()End stock price\")\n",
    "plt.show()"
   ]
  },
  {
   "cell_type": "markdown",
   "id": "69c8d8fa-d662-4736-9354-c17f62e070af",
   "metadata": {},
   "source": [
    "## difference between prediction data and test data"
   ]
  },
  {
   "cell_type": "code",
   "execution_count": 11,
   "id": "026aa378-6872-43d4-b202-5d45d0864313",
   "metadata": {},
   "outputs": [
    {
     "name": "stdout",
     "output_type": "stream",
     "text": [
      "[  31.0333952   -65.40250495  120.46410849   79.79985324 -114.06638164\n",
      "   28.59785402  -51.49489324   55.54817908  -30.58612234  149.49461246\n",
      "  -39.81141974  104.47756956  107.95735615  -29.66482053 -155.85552448\n",
      " -299.879724     58.44166779 -177.31371681 -170.21938803   67.90133818\n",
      " -168.94196698 -313.19297764  -12.63853726  132.59849846  -35.0785258\n",
      "  106.14647504   15.85028658  -30.32219716  162.82062026 -166.75401524\n",
      "  115.9193641   -45.82941079  -52.38304494  -39.44321458   25.50056457\n",
      "  -70.19977644  -18.85556984 -234.94234924   52.98675537   29.37655332\n",
      " -127.0671327  -202.41589343   81.1921241   -68.27359843 -408.56345739\n",
      "   29.91272693  275.27227156  -68.68774939  127.58791285  -30.67591488\n",
      " -239.39610463  -87.78201995   89.88429399 -326.81431793  161.41666858\n",
      "  -42.35432824  -91.99695296  100.53723507 -167.51906402   33.43130485\n",
      "  -11.21164951  -80.62042878  -91.92501258   -1.0893071  -114.32192717\n",
      "   -8.20708933]\n",
      "average deviation= 103.5749639375175\n",
      "max deviation= 408.563457391032\n"
     ]
    }
   ],
   "source": [
    "print(pre_y-test_y)  # difference between prediction data and test data\n",
    "diff_y=abs(pre_y-test_y)\n",
    "print(\"average deviation=\",sum(diff_y)/len(diff_y))  # average of differences\n",
    "print(\"max deviation=\",max(diff_y))  # max difference"
   ]
  },
  {
   "cell_type": "markdown",
   "id": "d54974ea-ebfa-46fa-b2b8-f333c9027b58",
   "metadata": {},
   "source": [
    "## 2) SVM model"
   ]
  },
  {
   "cell_type": "code",
   "execution_count": 12,
   "id": "bd693c32-98c7-430b-a388-486b1dbd6e55",
   "metadata": {},
   "outputs": [
    {
     "name": "stdout",
     "output_type": "stream",
     "text": [
      "SVR(C=100, gamma='auto', kernel='linear')\n",
      "Variance score: \n",
      " -105.74417128776831\n",
      "average deviation= 2907.2502079425094\n",
      "max deviation= 9089.493197669406\n",
      "SVR(C=100, gamma=0.1)\n",
      "Variance score: \n",
      " -10.41608051747502\n",
      "average deviation= 1122.1824242424202\n",
      "max deviation= 1684.212727272724\n"
     ]
    }
   ],
   "source": [
    "svr_lin = SVR(kernel='linear', C=100, gamma='auto')\n",
    "svr_rbf = SVR(kernel='rbf', C=100, gamma=0.1, epsilon=.1)\n",
    "#\n",
    "svrs = [ svr_lin, svr_rbf]\n",
    "for svr in svrs:\n",
    "    svr.fit(train_x, train_y)\n",
    "   # Make predictions using the testing set\n",
    "    pre_y = svr.predict(test_x)\n",
    "   #\n",
    "    print(svr)\n",
    "   # Explained variance score: 1 is perfect prediction\n",
    "    print('Variance score: \\n', r2_score(test_y, pre_y))\n",
    "   # check prediction result\n",
    "   # print(diabetes_y_pred-y_test)  # difference between prediction data and test data\n",
    "    diff=abs(pre_y - test_y)  # get absolute difference\n",
    "    print(\"average deviation=\",sum(diff)/len(diff))  # average of differences\n",
    "    print(\"max deviation=\",max(diff))  # max difference"
   ]
  },
  {
   "cell_type": "markdown",
   "id": "bdd4f9ce-dfcc-49c5-8078-b7c2ae1b2c21",
   "metadata": {},
   "source": [
    "## 3) Ramdom Forest Regression model"
   ]
  },
  {
   "cell_type": "code",
   "execution_count": 13,
   "id": "d3990fe5-ca9b-4399-8009-a3717b4c495c",
   "metadata": {},
   "outputs": [
    {
     "name": "stdout",
     "output_type": "stream",
     "text": [
      "Variance score: \n",
      " -0.5227057796298242\n",
      "[  96.19   43.23  120.3   147.09   66.57  126.4   108.9   214.63  192.39\n",
      "  394.37  182.61  293.55  111.19   28.19 -115.76 -391.04   24.06  -79.09\n",
      "  -85.53  -32.08 -174.28 -534.66 -643.75 -489.17 -434.09 -280.09 -252.09\n",
      " -247.09  -78.09 -206.21  -49.45 -116.63  -86.11 -125.31  -66.66 -106.51\n",
      " -117.   -355.12 -287.25 -267.63 -326.52 -526.87 -456.09 -495.09 -837.09\n",
      " -831.09 -549.09 -491.09 -307.09 -344.09 -546.09 -652.09 -549.09 -803.09\n",
      " -610.09 -649.09 -648.09 -553.09 -674.09 -605.09 -605.09 -622.09 -694.09\n",
      " -672.09 -751.09 -717.09]\n",
      "average deviation= 352.81681818181823\n",
      "max deviation= 837.0900000000001\n"
     ]
    }
   ],
   "source": [
    "# Construct Random forest model\n",
    "from sklearn.ensemble import RandomForestRegressor\n",
    "#\n",
    "rfr = RandomForestRegressor(n_estimators=100)\n",
    "rfr.fit(train_x, train_y)\n",
    "pre_y = rfr.predict(test_x)\n",
    "# Explained variance score: 1 is perfect prediction\n",
    "print('Variance score: \\n', r2_score(test_y, pre_y))\n",
    "# check prediction result\n",
    "print(pre_y-test_y)  # difference between prediction data and test data\n",
    "diff=abs(pre_y-test_y)  # get absolute difference\n",
    "print(\"average deviation=\",sum(diff)/len(diff))  # average of differences\n",
    "print(\"max deviation=\",max(diff))  # max difference"
   ]
  },
  {
   "cell_type": "markdown",
   "id": "1fe35f15-fa43-4133-8b28-6b31c59a7396",
   "metadata": {},
   "source": [
    "## relative importance"
   ]
  },
  {
   "cell_type": "code",
   "execution_count": 14,
   "id": "40ecdfe5-7d04-475e-8cad-1e9fecd27f8b",
   "metadata": {},
   "outputs": [
    {
     "ename": "AttributeError",
     "evalue": "'list' object has no attribute 'columns'",
     "output_type": "error",
     "traceback": [
      "\u001b[0;31m---------------------------------------------------------------------------\u001b[0m",
      "\u001b[0;31mAttributeError\u001b[0m                            Traceback (most recent call last)",
      "\u001b[0;32m/tmp/ipykernel_107070/1357113374.py\u001b[0m in \u001b[0;36m<module>\u001b[0;34m\u001b[0m\n\u001b[0;32m----> 1\u001b[0;31m \u001b[0mimportances\u001b[0m \u001b[0;34m=\u001b[0m \u001b[0mpd\u001b[0m\u001b[0;34m.\u001b[0m\u001b[0mDataFrame\u001b[0m\u001b[0;34m(\u001b[0m\u001b[0;34m{\u001b[0m\u001b[0;34m'feature'\u001b[0m\u001b[0;34m:\u001b[0m\u001b[0mtrain_x\u001b[0m\u001b[0;34m.\u001b[0m\u001b[0mcolumns\u001b[0m\u001b[0;34m,\u001b[0m\u001b[0;34m'importance'\u001b[0m\u001b[0;34m:\u001b[0m\u001b[0mnp\u001b[0m\u001b[0;34m.\u001b[0m\u001b[0mround\u001b[0m\u001b[0;34m(\u001b[0m\u001b[0mrfr\u001b[0m\u001b[0;34m.\u001b[0m\u001b[0mfeature_importances_\u001b[0m\u001b[0;34m,\u001b[0m\u001b[0;36m3\u001b[0m\u001b[0;34m)\u001b[0m\u001b[0;34m}\u001b[0m\u001b[0;34m)\u001b[0m\u001b[0;34m\u001b[0m\u001b[0;34m\u001b[0m\u001b[0m\n\u001b[0m\u001b[1;32m      2\u001b[0m \u001b[0mimportances\u001b[0m \u001b[0;34m=\u001b[0m \u001b[0mimportances\u001b[0m\u001b[0;34m.\u001b[0m\u001b[0msort_values\u001b[0m\u001b[0;34m(\u001b[0m\u001b[0;34m'importance'\u001b[0m\u001b[0;34m,\u001b[0m\u001b[0mascending\u001b[0m\u001b[0;34m=\u001b[0m\u001b[0;32mFalse\u001b[0m\u001b[0;34m)\u001b[0m\u001b[0;34m.\u001b[0m\u001b[0mset_index\u001b[0m\u001b[0;34m(\u001b[0m\u001b[0;34m'feature'\u001b[0m\u001b[0;34m)\u001b[0m\u001b[0;34m\u001b[0m\u001b[0;34m\u001b[0m\u001b[0m\n\u001b[1;32m      3\u001b[0m \u001b[0mimportances\u001b[0m\u001b[0;34m.\u001b[0m\u001b[0mhead\u001b[0m\u001b[0;34m(\u001b[0m\u001b[0;36m15\u001b[0m\u001b[0;34m)\u001b[0m\u001b[0;34m\u001b[0m\u001b[0;34m\u001b[0m\u001b[0m\n\u001b[1;32m      4\u001b[0m \u001b[0mimportances\u001b[0m\u001b[0;34m.\u001b[0m\u001b[0mplot\u001b[0m\u001b[0;34m.\u001b[0m\u001b[0mbar\u001b[0m\u001b[0;34m(\u001b[0m\u001b[0;34m)\u001b[0m\u001b[0;34m\u001b[0m\u001b[0;34m\u001b[0m\u001b[0m\n",
      "\u001b[0;31mAttributeError\u001b[0m: 'list' object has no attribute 'columns'"
     ]
    }
   ],
   "source": [
    "importances = pd.DataFrame({'feature':train_x.columns,'importance':np.round(rfr.feature_importances_,3)})\n",
    "importances = importances.sort_values('importance',ascending=False).set_index('feature')\n",
    "importances.head(15)\n",
    "importances.plot.bar()"
   ]
  },
  {
   "cell_type": "code",
   "execution_count": null,
   "id": "edf991af-987b-45e7-94fa-cef3e6e86a0f",
   "metadata": {},
   "outputs": [],
   "source": []
  }
 ],
 "metadata": {
  "kernelspec": {
   "display_name": "Python 3 (ipykernel)",
   "language": "python",
   "name": "python3"
  },
  "language_info": {
   "codemirror_mode": {
    "name": "ipython",
    "version": 3
   },
   "file_extension": ".py",
   "mimetype": "text/x-python",
   "name": "python",
   "nbconvert_exporter": "python",
   "pygments_lexer": "ipython3",
   "version": "3.9.13"
  }
 },
 "nbformat": 4,
 "nbformat_minor": 5
}
